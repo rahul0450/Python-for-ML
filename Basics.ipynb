{
 "cells": [
  {
   "cell_type": "markdown",
   "id": "9035c52e-55fc-4730-a3b4-81eeeed06643",
   "metadata": {},
   "source": [
    "# Basics of `Python` coding\n",
    "In this notebook we will explain basic `Python` for Machine Learning."
   ]
  },
  {
   "cell_type": "markdown",
   "id": "360f0ab0-a6e2-45d0-a94a-c9ba132b423b",
   "metadata": {},
   "source": [
    "## Derived datatpes in `pyhton`"
   ]
  },
  {
   "cell_type": "markdown",
   "id": "7a8d596f-22a7-455c-a3f5-55c1cd8254f9",
   "metadata": {},
   "source": [
    ">**NOTE:** In python `int`,`float`,`str`,etc are atomic datatypes and no declaration is required."
   ]
  },
  {
   "cell_type": "code",
   "execution_count": 1,
   "id": "30b14d65-6dd6-45a4-98e9-4c523ea91f45",
   "metadata": {},
   "outputs": [],
   "source": [
    "my_list=[1,2,3]"
   ]
  },
  {
   "cell_type": "code",
   "execution_count": 2,
   "id": "dddcf093-1df8-4495-9f02-361d7334431e",
   "metadata": {},
   "outputs": [
    {
     "data": {
      "text/plain": [
       "[1, 2, 3]"
      ]
     },
     "execution_count": 2,
     "metadata": {},
     "output_type": "execute_result"
    }
   ],
   "source": [
    "my_list"
   ]
  },
  {
   "cell_type": "code",
   "execution_count": 4,
   "id": "05a3e7b6-7f9a-4474-bdbe-28d434723dc8",
   "metadata": {},
   "outputs": [],
   "source": [
    "my_list=[1,'a',2,'b',3,'c',4]"
   ]
  },
  {
   "cell_type": "code",
   "execution_count": 5,
   "id": "b5df4e84-e574-4655-9b8f-43d447d9c364",
   "metadata": {},
   "outputs": [
    {
     "data": {
      "text/plain": [
       "[1, 'a', 2, 'b', 3, 'c', 4]"
      ]
     },
     "execution_count": 5,
     "metadata": {},
     "output_type": "execute_result"
    }
   ],
   "source": [
    "my_list"
   ]
  },
  {
   "cell_type": "code",
   "execution_count": 6,
   "id": "0f28d7a9-764c-4f4c-8618-3731c1826c14",
   "metadata": {},
   "outputs": [
    {
     "data": {
      "text/plain": [
       "1"
      ]
     },
     "execution_count": 6,
     "metadata": {},
     "output_type": "execute_result"
    }
   ],
   "source": [
    "my_list[0]"
   ]
  },
  {
   "cell_type": "code",
   "execution_count": 7,
   "id": "6be7927b-4b21-4e9d-98b8-32ac7eddf162",
   "metadata": {},
   "outputs": [],
   "source": [
    "my_list=[1,2,[100,200]]"
   ]
  },
  {
   "cell_type": "code",
   "execution_count": 8,
   "id": "9661eedf-6338-4572-b778-aea4f0bcde58",
   "metadata": {},
   "outputs": [
    {
     "data": {
      "text/plain": [
       "[100, 200]"
      ]
     },
     "execution_count": 8,
     "metadata": {},
     "output_type": "execute_result"
    }
   ],
   "source": [
    "my_list[2]"
   ]
  },
  {
   "cell_type": "code",
   "execution_count": 9,
   "id": "a84056c5-5bc4-4b8d-be41-b22f2b178358",
   "metadata": {},
   "outputs": [
    {
     "data": {
      "text/plain": [
       "200"
      ]
     },
     "execution_count": 9,
     "metadata": {},
     "output_type": "execute_result"
    }
   ],
   "source": [
    "my_list[2][1]"
   ]
  },
  {
   "cell_type": "code",
   "execution_count": 10,
   "id": "e44fa6e6-af41-40e7-9faa-198c06950eb8",
   "metadata": {},
   "outputs": [
    {
     "data": {
      "text/plain": [
       "100"
      ]
     },
     "execution_count": 10,
     "metadata": {},
     "output_type": "execute_result"
    }
   ],
   "source": [
    "my_list[2][0]"
   ]
  },
  {
   "cell_type": "code",
   "execution_count": 11,
   "id": "a6a6f8a2-0da5-4831-bd53-e907f08da42e",
   "metadata": {},
   "outputs": [
    {
     "data": {
      "text/plain": [
       "[1, 2]"
      ]
     },
     "execution_count": 11,
     "metadata": {},
     "output_type": "execute_result"
    }
   ],
   "source": [
    "my_list[:2]"
   ]
  },
  {
   "cell_type": "code",
   "execution_count": 13,
   "id": "7ad4be90-837c-4617-9b2d-8d90bcf9219c",
   "metadata": {},
   "outputs": [
    {
     "data": {
      "text/plain": [
       "[1, 2, [100, 200]]"
      ]
     },
     "execution_count": 13,
     "metadata": {},
     "output_type": "execute_result"
    }
   ],
   "source": [
    "my_list[0:]"
   ]
  },
  {
   "cell_type": "code",
   "execution_count": 14,
   "id": "bd34adc9-0ec8-4c7f-8d0c-709250054be3",
   "metadata": {},
   "outputs": [],
   "source": [
    "my_list[0]='new'"
   ]
  },
  {
   "cell_type": "code",
   "execution_count": 15,
   "id": "4c10d9fb-253e-4276-8ad8-e5c816dc6047",
   "metadata": {},
   "outputs": [
    {
     "data": {
      "text/plain": [
       "['new', 2, [100, 200]]"
      ]
     },
     "execution_count": 15,
     "metadata": {},
     "output_type": "execute_result"
    }
   ],
   "source": [
    "my_list"
   ]
  },
  {
   "cell_type": "code",
   "execution_count": 17,
   "id": "33208866-e5cd-4ecf-a315-e2b7d4dc14c5",
   "metadata": {},
   "outputs": [],
   "source": [
    "my_list.append('e')"
   ]
  },
  {
   "cell_type": "code",
   "execution_count": 18,
   "id": "2f843dcd-fb66-4189-b7fc-eb394982dc6a",
   "metadata": {},
   "outputs": [
    {
     "data": {
      "text/plain": [
       "['new', 2, [100, 200], 'e']"
      ]
     },
     "execution_count": 18,
     "metadata": {},
     "output_type": "execute_result"
    }
   ],
   "source": [
    "my_list"
   ]
  },
  {
   "cell_type": "markdown",
   "id": "3fdb91d5-1e69-488f-be1a-eef8ba26468f",
   "metadata": {},
   "source": [
    "## Tuple"
   ]
  },
  {
   "cell_type": "code",
   "execution_count": 19,
   "id": "fac53d6a-986e-4bbd-bd2c-becb1a3d9b27",
   "metadata": {},
   "outputs": [],
   "source": [
    "t=(1,2,3)"
   ]
  },
  {
   "cell_type": "code",
   "execution_count": 20,
   "id": "cb737f6f-1118-4638-b7e7-b55391f29430",
   "metadata": {},
   "outputs": [
    {
     "data": {
      "text/plain": [
       "(1, 2, 3)"
      ]
     },
     "execution_count": 20,
     "metadata": {},
     "output_type": "execute_result"
    }
   ],
   "source": [
    "t"
   ]
  },
  {
   "cell_type": "markdown",
   "id": "50f0780e-8f42-40da-8e13-351779a40487",
   "metadata": {},
   "source": [
    "## Dictionary"
   ]
  },
  {
   "cell_type": "code",
   "execution_count": 26,
   "id": "ec61de04-b83a-4b2b-8f30-c5a037f0f263",
   "metadata": {},
   "outputs": [],
   "source": [
    "d={'Name':'Rahul','Age':19}"
   ]
  },
  {
   "cell_type": "code",
   "execution_count": 22,
   "id": "d653c58b-d41b-4a04-b028-d8aa117cf29b",
   "metadata": {},
   "outputs": [
    {
     "data": {
      "text/plain": [
       "{'name': 'Rahul', 'Age': 19}"
      ]
     },
     "execution_count": 22,
     "metadata": {},
     "output_type": "execute_result"
    }
   ],
   "source": [
    "d"
   ]
  },
  {
   "cell_type": "code",
   "execution_count": 27,
   "id": "7458cf27-697a-4289-8f6b-452b2acb5ed6",
   "metadata": {},
   "outputs": [
    {
     "data": {
      "text/plain": [
       "'Rahul'"
      ]
     },
     "execution_count": 27,
     "metadata": {},
     "output_type": "execute_result"
    }
   ],
   "source": [
    "d['Name']"
   ]
  },
  {
   "cell_type": "code",
   "execution_count": 28,
   "id": "9d11aee5-6117-4501-a80f-b8babec8b706",
   "metadata": {},
   "outputs": [
    {
     "data": {
      "text/plain": [
       "19"
      ]
     },
     "execution_count": 28,
     "metadata": {},
     "output_type": "execute_result"
    }
   ],
   "source": [
    "d['Age']"
   ]
  },
  {
   "cell_type": "markdown",
   "id": "90282578-6771-4575-89ae-5fe72dbe03aa",
   "metadata": {},
   "source": [
    "## Sets\n",
    "It give only unique values"
   ]
  },
  {
   "cell_type": "code",
   "execution_count": 44,
   "id": "147d49dd-bbb5-4c36-b700-f4aa66c62d4d",
   "metadata": {},
   "outputs": [
    {
     "data": {
      "text/plain": [
       "{1, 2, 3, 4, 5, 6, 7, 8, 9}"
      ]
     },
     "execution_count": 44,
     "metadata": {},
     "output_type": "execute_result"
    }
   ],
   "source": [
    "{1,1,1,2,2,2,3,3,3,4,5,6,4,5,6,3,4,5,6,8,9,7,9,6,8,9,6,}"
   ]
  },
  {
   "cell_type": "markdown",
   "id": "0528d41c-1b34-49d4-a500-bdb5e722122d",
   "metadata": {},
   "source": [
    "## Funtions"
   ]
  },
  {
   "cell_type": "code",
   "execution_count": 30,
   "id": "0aaa07dd-88d2-40c6-bf9a-d83b68cc2ba5",
   "metadata": {},
   "outputs": [],
   "source": [
    "def times2(var):\n",
    "    return var*2"
   ]
  },
  {
   "cell_type": "code",
   "execution_count": 32,
   "id": "5703f078-233f-4965-85d3-14f196dd66a9",
   "metadata": {},
   "outputs": [
    {
     "data": {
      "text/plain": [
       "8"
      ]
     },
     "execution_count": 32,
     "metadata": {},
     "output_type": "execute_result"
    }
   ],
   "source": [
    "times2(4)"
   ]
  },
  {
   "cell_type": "markdown",
   "id": "0fa875d6-581d-480a-b535-2bca74b2aafd",
   "metadata": {},
   "source": [
    "## Lambda Function"
   ]
  },
  {
   "cell_type": "code",
   "execution_count": 33,
   "id": "88fca8b5-0fca-49ca-987f-178e25d4a3ce",
   "metadata": {},
   "outputs": [],
   "source": [
    "times2=lambda var:var*2"
   ]
  },
  {
   "cell_type": "code",
   "execution_count": 39,
   "id": "35582a8a-3f7a-4bc3-9449-0836e1a217f0",
   "metadata": {},
   "outputs": [
    {
     "name": "stdout",
     "output_type": "stream",
     "text": [
      "20\n"
     ]
    }
   ],
   "source": [
    "print(times2(10))"
   ]
  },
  {
   "cell_type": "markdown",
   "id": "82324862-7992-4bd0-937d-fe3c2308e315",
   "metadata": {},
   "source": [
    "## Loop"
   ]
  },
  {
   "cell_type": "code",
   "execution_count": 40,
   "id": "94719dfd-d9c1-4a0b-96ea-6f9d35ae8e2e",
   "metadata": {},
   "outputs": [],
   "source": [
    "x=[1,2,3]"
   ]
  },
  {
   "cell_type": "code",
   "execution_count": 42,
   "id": "8619558d-5409-4b0c-8ac3-bc675877e65c",
   "metadata": {},
   "outputs": [
    {
     "name": "stdout",
     "output_type": "stream",
     "text": [
      "[1, 4, 9]\n"
     ]
    }
   ],
   "source": [
    "o=[]\n",
    "for i in x:\n",
    "    o.append(i**2)\n",
    "print(o)"
   ]
  },
  {
   "cell_type": "markdown",
   "id": "cf00e791-901a-47c1-af8f-1294938799eb",
   "metadata": {},
   "source": [
    "## List comprehension"
   ]
  },
  {
   "cell_type": "code",
   "execution_count": 43,
   "id": "9365bb90-3cc4-4425-b9dc-1884f0bbbb8f",
   "metadata": {},
   "outputs": [
    {
     "data": {
      "text/plain": [
       "[1, 4, 9]"
      ]
     },
     "execution_count": 43,
     "metadata": {},
     "output_type": "execute_result"
    }
   ],
   "source": [
    "[i**2 for i in x]"
   ]
  },
  {
   "cell_type": "markdown",
   "id": "e3cefef0-fb8c-4d86-a10d-a96ee2d39fed",
   "metadata": {},
   "source": [
    "## Formatting in python"
   ]
  },
  {
   "cell_type": "code",
   "execution_count": 48,
   "id": "0cbfc16f-1bcd-4866-8cf4-6f3e46c1e393",
   "metadata": {},
   "outputs": [
    {
     "name": "stdout",
     "output_type": "stream",
     "text": [
      "My name is Rahul, My number is 60\n"
     ]
    }
   ],
   "source": [
    "print('My name is {0}, My number is {1}'.format('Rahul',60)) "
   ]
  },
  {
   "cell_type": "code",
   "execution_count": 50,
   "id": "f35a4415-b817-4d37-a0ce-b64629519213",
   "metadata": {},
   "outputs": [],
   "source": [
    "r='Rahul'\n",
    "s=60"
   ]
  },
  {
   "cell_type": "code",
   "execution_count": 51,
   "id": "053c48dc-dedd-4c94-b577-57c9f609a239",
   "metadata": {},
   "outputs": [
    {
     "name": "stdout",
     "output_type": "stream",
     "text": [
      "My name is Rahul, and my number is 60\n"
     ]
    }
   ],
   "source": [
    "print('My name is {one}, and my number is {two}'.format(one=r,two=s))"
   ]
  },
  {
   "cell_type": "code",
   "execution_count": null,
   "id": "7e807792-35e8-400c-89b5-bfd475167ac6",
   "metadata": {},
   "outputs": [],
   "source": []
  }
 ],
 "metadata": {
  "kernelspec": {
   "display_name": "Python 3 (Intel® oneAPI 2023.2)",
   "language": "python",
   "name": "c009-intel_distribution_of_python_3_oneapi-beta05-python"
  },
  "language_info": {
   "codemirror_mode": {
    "name": "ipython",
    "version": 3
   },
   "file_extension": ".py",
   "mimetype": "text/x-python",
   "name": "python",
   "nbconvert_exporter": "python",
   "pygments_lexer": "ipython3",
   "version": "3.9.16"
  }
 },
 "nbformat": 4,
 "nbformat_minor": 5
}
